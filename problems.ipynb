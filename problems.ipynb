{
 "cells": [
  {
   "cell_type": "markdown",
   "id": "ac6ddc2d",
   "metadata": {
    "vscode": {
     "languageId": "plaintext"
    }
   },
   "source": [
    "# **Computational Theory**\n",
    "### *Adam Gallagher G00413950*"
   ]
  },
  {
   "cell_type": "markdown",
   "id": "60d8ea13",
   "metadata": {},
   "source": [
    "## **Problem 1: _Binary Words and Operations_**"
   ]
  },
  {
   "cell_type": "markdown",
   "id": "9b4bac86",
   "metadata": {},
   "source": [
    "## **Problem 2: _Fractional Parts of Cube Roots_**"
   ]
  },
  {
   "cell_type": "markdown",
   "id": "8e1d0049",
   "metadata": {},
   "source": [
    "## **Problem 3: _Padding_**"
   ]
  },
  {
   "cell_type": "markdown",
   "id": "dbabb682",
   "metadata": {},
   "source": [
    "## **Problem 4: _Hashes_**"
   ]
  },
  {
   "cell_type": "markdown",
   "id": "96591787",
   "metadata": {},
   "source": [
    "## **Problem 5: _Passwords_**"
   ]
  }
 ],
 "metadata": {
  "language_info": {
   "name": "python"
  }
 },
 "nbformat": 4,
 "nbformat_minor": 5
}
