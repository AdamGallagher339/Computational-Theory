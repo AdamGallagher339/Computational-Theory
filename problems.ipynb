{
 "cells": [
  {
   "cell_type": "markdown",
   "id": "ac6ddc2d",
   "metadata": {
    "vscode": {
     "languageId": "plaintext"
    }
   },
   "source": [
    "# **Computational Theory**\n",
    "### *Adam Gallagher G00413950*"
   ]
  },
  {
   "cell_type": "markdown",
   "id": "60d8ea13",
   "metadata": {},
   "source": [
    "## **Problem 1: _Binary Words and Operations_**"
   ]
  },
  {
   "cell_type": "markdown",
   "id": "138b736b",
   "metadata": {},
   "source": [
    "_<'What does the code do'>_"
   ]
  },
  {
   "cell_type": "code",
   "execution_count": 5,
   "id": "61777bd9",
   "metadata": {},
   "outputs": [],
   "source": [
    "# Begin coding Problem 1: \n",
    "\n",
    "# Implement the following functions in Python. \n",
    "# Use numpy to ensure that all variables and values are treated as 32-bit integers. \n",
    "# These functions are defined in the Secure Hash Standard (see page 10).\n",
    "\n",
    "    #Parity(x, y, z)\n",
    "\n",
    "    #Ch(x, y, z)\n",
    "\n",
    "    #Maj(x, y, z)\n",
    "\n",
    "    #Sigma0(x) - written as Σ 0 256(x) in the standard.\n",
    "\n",
    "    #Sigma1(x) - written as Σ 1 256(x) in the standard.\n",
    "\n",
    "    #sigma0(x) - written as σ 0 256(x) in the standard.\n",
    "\n",
    "    #sigma1(x) - written as σ 1 256(x) in the standard.\n",
    "\n",
    "# Document each function with a clear docstring, \n",
    "# explain its purpose and behaviour in Markdown, \n",
    "# and test it with appropriate examples to verify correctness."
   ]
  },
  {
   "cell_type": "markdown",
   "id": "9b4bac86",
   "metadata": {},
   "source": [
    "## **Problem 2: _Fractional Parts of Cube Roots_**"
   ]
  },
  {
   "cell_type": "markdown",
   "id": "18053197",
   "metadata": {},
   "source": [
    "_<'What does the code do'>_"
   ]
  },
  {
   "cell_type": "code",
   "execution_count": 6,
   "id": "c9d179b2",
   "metadata": {},
   "outputs": [],
   "source": [
    "# Use numpy to calculate the constants listed at the bottom of page 11 of the Secure Hash Standard, following the steps below. \n",
    "\n",
    "# These are the first 32 bits of the fractional parts of the cube roots of the first 64 prime numbers.\n",
    "    #Write a function called primes(n) that generates the first n prime numbers.    \n",
    "\n",
    "    #Use the function to calculate the cube root of the first 64 primes.\n",
    "\n",
    "    #For each cube root, extract the first thirty-two bits of the fractional part.\n",
    "\n",
    "    #Display the result in hexadecimal.\n",
    "\n",
    "    #Test the results against what is in the Secure Hash Standard."
   ]
  },
  {
   "cell_type": "markdown",
   "id": "8e1d0049",
   "metadata": {},
   "source": [
    "## **Problem 3: _Padding_**"
   ]
  },
  {
   "cell_type": "markdown",
   "id": "2a907f77",
   "metadata": {},
   "source": [
    "_<'What does the code do'>_"
   ]
  },
  {
   "cell_type": "code",
   "execution_count": 7,
   "id": "89beb83e",
   "metadata": {},
   "outputs": [],
   "source": [
    "# Write a generator function block_parse(msg) that processes messages according to section 5.1.1 and 5.2.1 of the Secure Hash Standard. \n",
    "# The function should accept a bytes object called msg. At each iteration, it should yield the next 512-bit block of msg as a bytes object. \n",
    "\n",
    "# Ensure that the final block (or final two blocks) include the required padding of msg as specified in the standard. \n",
    "# Test the generator with messages of different lengths to confirm proper padding and block output."
   ]
  },
  {
   "cell_type": "markdown",
   "id": "dbabb682",
   "metadata": {},
   "source": [
    "## **Problem 4: _Hashes_**"
   ]
  },
  {
   "cell_type": "markdown",
   "id": "d05b3dd7",
   "metadata": {},
   "source": [
    "_<'What does the code do'>_"
   ]
  },
  {
   "cell_type": "code",
   "execution_count": 8,
   "id": "54f77d9a",
   "metadata": {},
   "outputs": [],
   "source": [
    "# Write a function hash(current, block) that calculates the next hash value given the current hash value and the next message block according to section 6.2.2 SHA-256 Hash Computation on page 22 of the Secure Hash Standard."
   ]
  },
  {
   "cell_type": "markdown",
   "id": "96591787",
   "metadata": {},
   "source": [
    "## **Problem 5: _Passwords_**"
   ]
  },
  {
   "cell_type": "markdown",
   "id": "9e1bd4da",
   "metadata": {},
   "source": [
    "_<'What does the code do'>_"
   ]
  },
  {
   "cell_type": "code",
   "execution_count": 9,
   "id": "4d5625f9",
   "metadata": {},
   "outputs": [],
   "source": [
    "# The following are the SHA-256 hashes of three common passwords that have been hashed using one pass of the SHA-256 algorithm. As strings, they were encoded using UTF-8. \n",
    "# Determine the passwords and explain how you found them. Suggest ways in which the hashing of passwords could be improved to prevent the kind of attack you performed to find the passwords.\n",
    "\n",
    "    # 5e884898da28047151d0e56f8dc6292773603d0d6aabbdd62a11ef721d1542d8\n",
    "    # 873ac9ffea4dd04fa719e8920cd6938f0c23cd678af330939cff53c3d2855f34\n",
    "    # b03ddf3ca2e714a6548e7495e2a03f5e824eaac9837cd7f159c67b90fb4b7342"
   ]
  }
 ],
 "metadata": {
  "kernelspec": {
   "display_name": "Python 3",
   "language": "python",
   "name": "python3"
  },
  "language_info": {
   "codemirror_mode": {
    "name": "ipython",
    "version": 3
   },
   "file_extension": ".py",
   "mimetype": "text/x-python",
   "name": "python",
   "nbconvert_exporter": "python",
   "pygments_lexer": "ipython3",
   "version": "3.12.1"
  }
 },
 "nbformat": 4,
 "nbformat_minor": 5
}
